{
 "cells": [
  {
   "cell_type": "markdown",
   "metadata": {},
   "source": [
    "Jupyter notebook for detailed model evaluation and interpretability."
   ]
  },
  {
   "cell_type": "code",
   "execution_count": null,
   "metadata": {
    "vscode": {
     "languageId": "plaintext"
    }
   },
   "outputs": [],
   "source": [
    "# Model Evaluation Notebook\n",
    "\n",
    "## Import Libraries\n",
    "\n",
    "```python\n",
    "import numpy as np\n",
    "import xarray as xr\n",
    "import matplotlib.pyplot as plt\n",
    "from tensorflow.keras.models import load_model\n",
    "from src.models.custom_loss import custom_loss\n",
    "from src.utils.interpretability import explain_model\n",
    "import shap\n"
   ]
  },
  {
   "cell_type": "markdown",
   "metadata": {},
   "source": [
    "Load Test Data"
   ]
  },
  {
   "cell_type": "code",
   "execution_count": null,
   "metadata": {
    "vscode": {
     "languageId": "plaintext"
    }
   },
   "outputs": [],
   "source": [
    "variables = ['variable1', 'variable2', 'variable3', 'elevation', 'month']\n",
    "X_test, y_test = load_data('data/processed/test_data.nc', variables)\n"
   ]
  },
  {
   "cell_type": "markdown",
   "metadata": {},
   "source": [
    "Load Trained Model"
   ]
  },
  {
   "cell_type": "code",
   "execution_count": null,
   "metadata": {
    "vscode": {
     "languageId": "plaintext"
    }
   },
   "outputs": [],
   "source": [
    "model = load_model('models/downscaling_model.h5', custom_objects={'custom_loss': custom_loss})\n"
   ]
  },
  {
   "cell_type": "markdown",
   "metadata": {},
   "source": [
    "Evaluate Model Performance"
   ]
  },
  {
   "cell_type": "code",
   "execution_count": null,
   "metadata": {
    "vscode": {
     "languageId": "plaintext"
    }
   },
   "outputs": [],
   "source": [
    "y_pred = model.predict(X_test)\n",
    "# Compute evaluation metrics\n",
    "mse = mean_squared_error(y_test.flatten(), y_pred.flatten())\n",
    "mae = mean_absolute_error(y_test.flatten(), y_pred.flatten())\n",
    "r2 = r2_score(y_test.flatten(), y_pred.flatten())\n",
    "print(f'MSE: {mse}, MAE: {mae}, R^2: {r2}')\n"
   ]
  },
  {
   "cell_type": "markdown",
   "metadata": {},
   "source": [
    "Visualizations"
   ]
  },
  {
   "cell_type": "code",
   "execution_count": null,
   "metadata": {
    "vscode": {
     "languageId": "plaintext"
    }
   },
   "outputs": [],
   "source": [
    "# Plot actual vs predicted for a sample\n",
    "plt.figure(figsize=(12,6))\n",
    "plt.subplot(1,2,1)\n",
    "plt.imshow(y_test[0], cmap='jet')\n",
    "plt.title('Actual')\n",
    "plt.colorbar()\n",
    "\n",
    "plt.subplot(1,2,2)\n",
    "plt.imshow(y_pred[0], cmap='jet')\n",
    "plt.title('Predicted')\n",
    "plt.colorbar()\n",
    "plt.show()\n"
   ]
  },
  {
   "cell_type": "markdown",
   "metadata": {},
   "source": [
    "Interpretability with SHAP"
   ]
  },
  {
   "cell_type": "code",
   "execution_count": null,
   "metadata": {
    "vscode": {
     "languageId": "plaintext"
    }
   },
   "outputs": [],
   "source": [
    "# Explain model predictions\n",
    "explainer = shap.DeepExplainer(model, X_test[:100])\n",
    "shap_values = explainer.shap_values(X_test[:10])\n",
    "\n",
    "# SHAP summary plot\n",
    "shap.summary_plot(shap_values, X_test[:10])\n"
   ]
  }
 ],
 "metadata": {
  "language_info": {
   "name": "python"
  }
 },
 "nbformat": 4,
 "nbformat_minor": 2
}
